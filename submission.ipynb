{
 "cells": [
  {
   "cell_type": "markdown",
   "metadata": {},
   "source": [
    "# Agent submission"
   ]
  },
  {
   "cell_type": "code",
   "execution_count": 1,
   "metadata": {},
   "outputs": [
    {
     "name": "stdout",
     "output_type": "stream",
     "text": [
      "Loading environment football failed: \n",
      "\n",
      "IMPORTANT: PLEASE READ THIS FOR ADVICE ON HOW TO SOLVE THIS ISSUE!\n",
      "\n",
      "Importing the numpy C-extensions failed. This error can happen for\n",
      "many reasons, often due to issues with your setup or how NumPy was\n",
      "installed.\n",
      "\n",
      "We have compiled some common reasons and troubleshooting tips at:\n",
      "\n",
      "    https://numpy.org/devdocs/user/troubleshooting-importerror.html\n",
      "\n",
      "Please note and check the following:\n",
      "\n",
      "  * The Python version is: Python3.9 from \"C:\\Users\\Yuvraj\\anaconda3\\envs\\luxai\\python.exe\"\n",
      "  * The NumPy version is: \"1.20.3\"\n",
      "\n",
      "and make sure that they are the versions you expect.\n",
      "Please carefully study the documentation linked above for further help.\n",
      "\n",
      "Original error was: DLL load failed while importing _multiarray_umath: The specified module could not be found.\n",
      "\n",
      "Loading environment halite failed: \n",
      "\n",
      "IMPORTANT: PLEASE READ THIS FOR ADVICE ON HOW TO SOLVE THIS ISSUE!\n",
      "\n",
      "Importing the numpy C-extensions failed. This error can happen for\n",
      "many reasons, often due to issues with your setup or how NumPy was\n",
      "installed.\n",
      "\n",
      "We have compiled some common reasons and troubleshooting tips at:\n",
      "\n",
      "    https://numpy.org/devdocs/user/troubleshooting-importerror.html\n",
      "\n",
      "Please note and check the following:\n",
      "\n",
      "  * The Python version is: Python3.9 from \"C:\\Users\\Yuvraj\\anaconda3\\envs\\luxai\\python.exe\"\n",
      "  * The NumPy version is: \"1.20.3\"\n",
      "\n",
      "and make sure that they are the versions you expect.\n",
      "Please carefully study the documentation linked above for further help.\n",
      "\n",
      "Original error was: DLL load failed while importing _multiarray_umath: The specified module could not be found.\n",
      "\n"
     ]
    },
    {
     "name": "stderr",
     "output_type": "stream",
     "text": [
      "C:\\Users\\Yuvraj\\anaconda3\\envs\\luxai\\lib\\site-packages\\numpy\\__init__.py:143: UserWarning: mkl-service package failed to import, therefore Intel(R) MKL initialization ensuring its correct out-of-the box operation under condition when Gnu OpenMP had already been loaded by Python process is not assured. Please install mkl-service package, see http://github.com/IntelPython/mkl-service\n",
      "  from . import _distributor_init\n"
     ]
    }
   ],
   "source": [
    "from kaggle_environments import make"
   ]
  },
  {
   "cell_type": "code",
   "execution_count": 5,
   "metadata": {},
   "outputs": [],
   "source": [
    "%%writefile agent.py\n",
    "For tournament mode:\n",
    "\n",
    "```\n",
    "\n",
    "lux-ai-2021 --rankSystem=\"trueskill\" --tournament solidbot1.py variant.py devastate.py --storeReplay=false --storeLogs=false\n",
    "\n",
    "```\n",
    "\n",
    "\n",
    "Let's just say agent 1 will be our best bot. Whoever has the highest score becomes agent1 (i.e main.py).\n",
    "\n",
    "main2.py is our developing bot, which will hopefully ascend beyond main1.\n",
    "\n",
    "If you want to test between 2 small variations of a given agent, copy paste its code over to 'variant.py' (agent) and then make the change.\n",
    "\n",
    "Then, run the variant.py (main.py) vs your original agent and see what happens.\n",
    "\n",
    "```\n",
    "lux-ai-2021 --rankSystem=\"trueskill\" --tournament variant.py  devastate.py --storeReplay=false --storeLogs=false\n",
    "``\n",
    "\n",
    "lux-ai-2021 devastate.py variant.py"
   ]
  },
  {
   "cell_type": "code",
   "execution_count": 2,
   "metadata": {
    "scrolled": true
   },
   "outputs": [
    {
     "name": "stderr",
     "output_type": "stream",
     "text": [
      "a __init__.py\n",
      "a agent.py\n",
      "a main.py\n",
      "a lux\n",
      "a lux/annotate.py\n",
      "a lux/constants.py\n",
      "a lux/game.py\n",
      "a lux/game_constants.json\n",
      "a lux/game_constants.py\n",
      "a lux/game_map.py\n",
      "a lux/game_objects.py\n",
      "a lux/__init__.py\n",
      "a lux/__pycache__\n",
      "a lux/__pycache__/annotate.cpython-37.pyc\n",
      "a lux/__pycache__/annotate.cpython-39.pyc\n",
      "a lux/__pycache__/constants.cpython-37.pyc\n",
      "a lux/__pycache__/constants.cpython-39.pyc\n",
      "a lux/__pycache__/game.cpython-37.pyc\n",
      "a lux/__pycache__/game.cpython-39.pyc\n",
      "a lux/__pycache__/game_constants.cpython-37.pyc\n",
      "a lux/__pycache__/game_constants.cpython-39.pyc\n",
      "a lux/__pycache__/game_map.cpython-37.pyc\n",
      "a lux/__pycache__/game_map.cpython-39.pyc\n",
      "a lux/__pycache__/game_objects.cpython-37.pyc\n",
      "a lux/__pycache__/game_objects.cpython-39.pyc\n",
      "a lux/__pycache__/__init__.cpython-37.pyc\n",
      "a lux/__pycache__/__init__.cpython-39.pyc\n"
     ]
    }
   ],
   "source": [
    "!tar -czvf devVariant.tar.gz __init__.py agent.py main.py lux"
   ]
  },
  {
   "cell_type": "code",
   "execution_count": 3,
   "metadata": {},
   "outputs": [
    {
     "ename": "NameError",
     "evalue": "name 'agent' is not defined",
     "output_type": "error",
     "traceback": [
      "\u001b[1;31m---------------------------------------------------------------------------\u001b[0m",
      "\u001b[1;31mNameError\u001b[0m                                 Traceback (most recent call last)",
      "\u001b[1;32m<ipython-input-3-d7abc2da6384>\u001b[0m in \u001b[0;36m<module>\u001b[1;34m\u001b[0m\n\u001b[0;32m      1\u001b[0m \u001b[1;31m## This is just to see it works (you'll have to comment out %%writefile tho)\u001b[0m\u001b[1;33m\u001b[0m\u001b[1;33m\u001b[0m\u001b[1;33m\u001b[0m\u001b[0m\n\u001b[0;32m      2\u001b[0m \u001b[0menv\u001b[0m \u001b[1;33m=\u001b[0m \u001b[0mmake\u001b[0m\u001b[1;33m(\u001b[0m\u001b[1;34m\"lux_ai_2021\"\u001b[0m\u001b[1;33m,\u001b[0m \u001b[0mconfiguration\u001b[0m\u001b[1;33m=\u001b[0m\u001b[1;33m{\u001b[0m\u001b[1;34m\"loglevel\"\u001b[0m\u001b[1;33m:\u001b[0m \u001b[1;36m2\u001b[0m\u001b[1;33m,\u001b[0m \u001b[1;34m\"annotations\"\u001b[0m\u001b[1;33m:\u001b[0m \u001b[1;32mTrue\u001b[0m\u001b[1;33m}\u001b[0m\u001b[1;33m,\u001b[0m \u001b[0mdebug\u001b[0m\u001b[1;33m=\u001b[0m\u001b[1;32mTrue\u001b[0m\u001b[1;33m)\u001b[0m\u001b[1;33m\u001b[0m\u001b[1;33m\u001b[0m\u001b[0m\n\u001b[1;32m----> 3\u001b[1;33m \u001b[0msteps\u001b[0m \u001b[1;33m=\u001b[0m \u001b[0menv\u001b[0m\u001b[1;33m.\u001b[0m\u001b[0mrun\u001b[0m\u001b[1;33m(\u001b[0m\u001b[1;33m[\u001b[0m\u001b[0magent\u001b[0m\u001b[1;33m,\u001b[0m \u001b[1;34m\"simple_agent\"\u001b[0m\u001b[1;33m]\u001b[0m\u001b[1;33m)\u001b[0m\u001b[1;33m\u001b[0m\u001b[1;33m\u001b[0m\u001b[0m\n\u001b[0m",
      "\u001b[1;31mNameError\u001b[0m: name 'agent' is not defined"
     ]
    }
   ],
   "source": [
    "## This is just to see it works (you'll have to comment out %%writefile tho)\n",
    "env = make(\"lux_ai_2021\", configuration={\"loglevel\": 2, \"annotations\": True}, debug=True)\n",
    "steps = env.run([agent, \"simple_agent\"])"
   ]
  },
  {
   "cell_type": "code",
   "execution_count": null,
   "metadata": {},
   "outputs": [],
   "source": [
    "# Press shift+O (toggle outputs) to let the output be the whole size\n",
    "# Display the graphic of the game you just ran\n",
    "env.render(mode=\"ipython\", width=1200, height=800)"
   ]
  },
  {
   "cell_type": "code",
   "execution_count": null,
   "metadata": {},
   "outputs": [],
   "source": []
  }
 ],
 "metadata": {
  "kernelspec": {
   "display_name": "luxai",
   "language": "python",
   "name": "luxai"
  },
  "language_info": {
   "codemirror_mode": {
    "name": "ipython",
    "version": 3
   },
   "file_extension": ".py",
   "mimetype": "text/x-python",
   "name": "python",
   "nbconvert_exporter": "python",
   "pygments_lexer": "ipython3",
   "version": "3.9.6"
  }
 },
 "nbformat": 4,
 "nbformat_minor": 4
}
